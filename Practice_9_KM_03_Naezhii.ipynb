{
  "nbformat": 4,
  "nbformat_minor": 0,
  "metadata": {
    "colab": {
      "name": "Practice_7_KM-01_.ipynb",
      "provenance": [],
      "collapsed_sections": []
    },
    "kernelspec": {
      "name": "python3",
      "display_name": "Python 3.6.8 64-bit",
      "metadata": {
        "interpreter": {
          "hash": "5de8ab17c113d891ef4dfa2a49ae30d7d2bf1515fb9f93ef6816754ff3984139"
        }
      }
    }
  },
  "cells": [
    {
      "cell_type": "markdown",
      "metadata": {
        "id": "FMqboNwO4rVs"
      },
      "source": [
        "# **Курс \"Програмування на мові Python\"**\n",
        "\n",
        "##### Викладачі:\n",
        "##### Борисенко Павло Борисович\n",
        "##### Щьоголєв Максим Олегович\n"
      ]
    },
    {
      "cell_type": "markdown",
      "metadata": {
        "id": "A2T6MigL5Z06"
      },
      "source": [
        "## **Практичне зайняття №9**\n",
        "\n",
        "### Тема: \"Лямбда-функції. Функції вищих порядків\""
      ]
    },
    {
      "cell_type": "markdown",
      "metadata": {
        "id": "cfCdgK2zXm7e"
      },
      "source": [
        "### **Завдання 1 (1 бал)**\n",
        "\n",
        "Продавець роздрібного товару влаштовує розпродаж. Для всіх товарів знижка однакова - 60%. Щоб вивісити нові цінники, продавець хоче скласти таблицю, в якій для кожного товару буде підрахована його нова вартість та сума знижки.\n",
        "\n",
        "Написати програму, яка буде генерувати таку таблицю. Вартість одиниць товарів до розпродажу подано у списку products_list. \n",
        "\n",
        "1. Для підрахунку невідомих значень повинні використовуватись вбудовані функції вищих порядків.\n",
        "\n",
        "2. Вартість з урахуванням знижки та суми знижок для кожного товару повинні зберігатись у двох окремих списках. Порядок товарів у нових списках повинен бути такий самий, як і в списку products_list.\n",
        "\n",
        "3. Кожне підраховане числове значення має бути округлене до сотих.\n",
        "\n",
        "4. Дані повинні виводитись у вигляді:\n",
        "\n",
        "**Discount table:**\n",
        "\n",
        "**29.25 11.7 17.55**\n",
        "\n",
        "**48.99 19.6 29.39**\n",
        "\n",
        "**...**\n",
        "\n",
        "\n",
        "products_list = [[29.25, 48.99, 99.98, 124.65, 214.30, 543.90, 799.85]]\n"
      ]
    },
    {
      "cell_type": "code",
      "metadata": {
        "id": "ifNX2M7LXm7f"
      },
      "source": [
        "products_list = [29.25, 48.99, 99.98, 124.65, 214.30, 543.90, 799.85]\n",
        "discount = 0.6\n",
        "new_products_list = list(map(lambda x: round((1-discount) * x, 2) , products_list))\n",
        "discount_list = list(map(lambda x: round(discount * x, 2) , products_list))\n",
        "print('Discount table:')\n",
        "for i in range(len(products_list)):\n",
        "    print(f'{products_list[i]} {new_products_list[i]} {discount_list[i]}')\n",
        "\n"
      ],
      "execution_count": 5,
      "outputs": [
        {
          "output_type": "stream",
          "name": "stdout",
          "text": [
            "Discount table:\n29.25 11.7 17.55\n48.99 19.6 29.39\n99.98 39.99 59.99\n124.65 49.86 74.79\n214.3 85.72 128.58\n543.9 217.56 326.34\n799.85 319.94 479.91\n"
          ]
        }
      ]
    },
    {
      "source": [
        "### **Завдання 2 (2 бали)**\n",
        "\n",
        "Зазвичай рік має 365 днів. Однак у високосні роки додається ще один день - 29 лютого. Правила визначення високосного року такі:\n",
        "\n",
        "- Будь-який рік, що ділиться на 400 - високосний.\n",
        "\n",
        "- З тих років, що залишились, будь-який рік, що ділиться на 100 - **не** високосний.\n",
        "\n",
        "- З тих років, що залишились, будь-який рік, що ділиться на 4 - високосний.\n",
        "\n",
        "- Усі інші роки, що залишились - **не** високосні.\n",
        "\n",
        "1) Створіть функцію, в якій за допомогою вбудованих функцій вищих порядків будуть визначатися високосні роки серед перелічених років у списку years. Створена функція має повертати список високосних років.\n",
        "\n",
        "2) Створіть функцію вищих порядків, яка прийматиме на вхід попередню функцію та визначатиме кількість днів у місяці. Також функція повинна приймати на вхід ще 2 параметри: ціле число від 1 до 12 (місяць) та рік, як ціле чотирицифрове число. Ці значення корисувач має вводити з клавіатури. Перевірку введених даних слід виконувати поза межами функцій."
      ],
      "cell_type": "markdown",
      "metadata": {}
    },
    {
      "cell_type": "code",
      "execution_count": 7,
      "metadata": {},
      "outputs": [
        {
          "output_type": "stream",
          "name": "stdout",
          "text": [
            "Days:  29\n"
          ]
        }
      ],
      "source": [
        "import numpy as np\n",
        "\n",
        "years = np.arange(1900, 2020+1, 1)\n",
        "\n",
        "def leap(n):\n",
        "    return ((n%400==0) or (n%4==0 and n%100!=0))\n",
        "\n",
        "def leap_list(years):\n",
        "    return list(filter(leap, years))\n",
        "\n",
        "def days(leap_list, month, year):\n",
        "    if month == 2:\n",
        "        lst = set(leap_list(years))\n",
        "        if year in lst:\n",
        "            return 29\n",
        "    lst = [31, 28, 31, 30, 31, 30, 31, 31, 30, 31, 30, 31]\n",
        "    return lst[month - 1]\n",
        "\n",
        "def new_input(str, type, min=(False,0), max=(False,1)):\n",
        "    a = 0\n",
        "    while True:\n",
        "        a = input(str)\n",
        "        try:\n",
        "            a = type(a)\n",
        "        except ValueError:\n",
        "            print('Неправильний тип змінної.')\n",
        "        else:\n",
        "            if ((not min[0]) or a >= min[1]) and ((not max[0]) or a <= max[1]):\n",
        "                break\n",
        "            else:\n",
        "                pr = '[ '\n",
        "                if min[0]:\n",
        "                    pr = pr + str(min[1])+' ; '\n",
        "                else:\n",
        "                    pr = pr + '-INF ; '\n",
        "                if max[0]:\n",
        "                    pr = pr + str(max[1])\n",
        "                else:\n",
        "                    pr = pr + 'INF'\n",
        "                pr = pr + ' ]'\n",
        "                print('Введення значення не належить потрібному проміжку:', pr)\n",
        "    return a\n",
        "\n",
        "m = new_input('Month: ', int, min=(True, 1), max=(True, 12))\n",
        "y = new_input('Year: ', int, min=(True, 1900), max=(True, 2020))\n",
        "print('Days: ', days(leap_list, m, y))"
      ]
    },
    {
      "cell_type": "code",
      "execution_count": null,
      "metadata": {},
      "outputs": [],
      "source": []
    }
  ]
}