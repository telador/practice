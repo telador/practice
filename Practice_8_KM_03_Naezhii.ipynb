{
  "nbformat": 4,
  "nbformat_minor": 0,
  "metadata": {
    "colab": {
      "name": "Practice_7_KM-01_.ipynb",
      "provenance": [],
      "collapsed_sections": []
    },
    "kernelspec": {
      "name": "python3",
      "display_name": "Python 3.6.8 64-bit",
      "metadata": {
        "interpreter": {
          "hash": "5de8ab17c113d891ef4dfa2a49ae30d7d2bf1515fb9f93ef6816754ff3984139"
        }
      }
    }
  },
  "cells": [
    {
      "cell_type": "markdown",
      "metadata": {
        "id": "FMqboNwO4rVs"
      },
      "source": [
        "# **Курс \"Програмування на мові Python\"**\n",
        "\n",
        "##### Викладачі:\n",
        "##### Борисенко Павло Борисович\n",
        "##### Щьоголєв Максим Олегович\n"
      ]
    },
    {
      "cell_type": "markdown",
      "metadata": {
        "id": "A2T6MigL5Z06"
      },
      "source": [
        "## **Практичне зайняття №8**\n",
        "\n",
        "### Тема: \"Робота з функціями. Локальні та глобальні змінні\""
      ]
    },
    {
      "cell_type": "markdown",
      "metadata": {
        "id": "cfCdgK2zXm7e"
      },
      "source": [
        "### **Завдання 1 (3 бали)**\n",
        "\n",
        "**Підрахувати визначник матриці, використовуючи перестановки та символ Леві-Чивіти.**\n",
        "\n",
        "Функція random_matrix() призначена для створення квадратної матриці випадкових чисел. Її змінювати непотрібно.\n",
        "\n",
        "Приклад використання методу permutations() для створення списку перестановок також подається у комірці з кодом.\n",
        "\n",
        "1) Створити 3 функції: функцію створення списку перестановок, функцію підрахунку добутків та функцію підрахунку загальної суми.\n",
        "\n",
        "2) Кожна функція має супроводжуватись рядком документації, що буде коротко описувати її призначення.\n",
        "\n",
        "3) Розмірність квадратної матриці має вводитись користувачем з клавіатури. Підрахунки виконувати лише в тому разі, якщо користувач введе ціле додатне число.\n",
        "\n",
        "4) Загальний результат повинен підраховуватись за допомогою композиції функцій.\n",
        "\n",
        "За бажання можна перевірити правильність роботи програми за допомогою функції np.linalg.det(a)."
      ]
    },
    {
      "cell_type": "code",
      "metadata": {
        "id": "ifNX2M7LXm7f"
      },
      "source": [
        "import numpy as np\n",
        "import itertools\n",
        "\n",
        "def random_matrix(dim):\n",
        "    \"\"\"\n",
        "    The function generates dim x dim array of integers\n",
        "    between 0 and 10.\n",
        "    \"\"\"\n",
        "    matrix = np.random.randint(10, size = (dim, dim))\n",
        "    return matrix\n",
        "\n",
        "def new_input(str, type, ch = True):\n",
        "    \"\"\"\n",
        "    Input with type and sign check\n",
        "    \"\"\"\n",
        "    a = 0\n",
        "    while True:\n",
        "      a = input(f'{str}: ')\n",
        "      try:\n",
        "        a = type(a)\n",
        "      except ValueError:\n",
        "        pass\n",
        "      else:\n",
        "        if ch or type(a) > 0:\n",
        "          break \n",
        "    return a   \n",
        "\n",
        "def list_of_permutations(dim):\n",
        "    \"\"\"\n",
        "    Matrix in\n",
        "    List of permutations out\n",
        "    \"\"\"\n",
        "    t = [i for i in range(0,dim)]\n",
        "    return list(itertools.permutations(t,dim))\n",
        "\n",
        "def sgn(lst):\n",
        "    r = 1\n",
        "    for i in range(0,len(lst)-1):\n",
        "        for j in range(i+1,len(lst)):\n",
        "            if lst[i]>lst[j]:\n",
        "                r += 1\n",
        "    return (r%2)*2-1\n",
        "\n",
        "def multiplication(lst,p):\n",
        "    \"\"\"\n",
        "    Multiplying matrix elements\n",
        "    \"\"\"\n",
        "    multiplications = []\n",
        "    for t in range(len(lst)):\n",
        "        product = 1\n",
        "        for i in range(len(lst[t])):\n",
        "            product *= p[i][lst[t][i]]\n",
        "        product *= sgn(lst[t])\n",
        "        multiplications.append(product)\n",
        "    return multiplications\n",
        "\n",
        "def sum(lst):\n",
        "    \"\"\"\n",
        "    Sum of all elements in list\n",
        "    \"\"\"\n",
        "    s = 0\n",
        "    for i in lst:\n",
        "        s += i\n",
        "    return s\n",
        "\n",
        "dim = new_input('dim', int, False)\n",
        "p = random_matrix(dim)\n",
        "print('Our result:',sum(multiplication(list_of_permutations(dim),p)))\n",
        "print('np.linalg.det result:',np.linalg.det(p))"
      ],
      "execution_count": 23,
      "outputs": [
        {
          "output_type": "stream",
          "name": "stdout",
          "text": [
            "Our result: 15148\nnp.linalg.det result: 15147.999999999985\n"
          ]
        }
      ]
    },
    {
      "cell_type": "code",
      "execution_count": null,
      "metadata": {},
      "outputs": [],
      "source": []
    }
  ]
}